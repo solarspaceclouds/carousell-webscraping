{
 "cells": [
  {
   "cell_type": "code",
   "execution_count": null,
   "metadata": {},
   "outputs": [],
   "source": [
    "# \t# print(pd.read_csv(csv_file))\n",
    "# \twith open(csv_filename, 'a+') as file:\n",
    "# \t\tprint(file.readlines())\n",
    "# #  "
   ]
  }
 ],
 "metadata": {
  "language_info": {
   "name": "python"
  },
  "orig_nbformat": 4
 },
 "nbformat": 4,
 "nbformat_minor": 2
}
